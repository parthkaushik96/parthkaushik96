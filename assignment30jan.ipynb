{
 "cells": [
  {
   "cell_type": "code",
   "execution_count": 4,
   "id": "dd86902b-5fc2-49a7-bd3d-2c8b6a4f3c9c",
   "metadata": {},
   "outputs": [
    {
     "name": "stdin",
     "output_type": "stream",
     "text": [
      "Enter the name of the city:  jaipur\n"
     ]
    },
    {
     "name": "stdout",
     "output_type": "stream",
     "text": [
      "Jal Mahal\n"
     ]
    }
   ],
   "source": [
    "# Q3-accept a city name from the user and display monumnets of that city\n",
    "city_name= input(\"Enter the name of the city: \")\n",
    "if city_name ==\"delhi\":\n",
    "    print(\"Red fort\")\n",
    "elif city_name == \"agra\":\n",
    "    print(\"Tajmahal\")\n",
    "elif city_name == \"jaipur\":\n",
    "    print(\"Jal Mahal\")\n",
    "else:\n",
    "    print(\"please input delhi agra or jaipur\")\n",
    "    \n",
    "        \n",
    "        \n",
    "    "
   ]
  },
  {
   "cell_type": "code",
   "execution_count": 10,
   "id": "957d8883-3f67-4bf9-bcdf-fc980e89eb0d",
   "metadata": {},
   "outputs": [
    {
     "name": "stdin",
     "output_type": "stream",
     "text": [
      "Enter your percentages:  91\n"
     ]
    },
    {
     "name": "stdout",
     "output_type": "stream",
     "text": [
      "Grade A\n"
     ]
    }
   ],
   "source": [
    "#Q1write a python programme to accept percentage from the user and display the grade according to the following criteria\n",
    "# marks >90  === grade A , marks >80 and <=90 grade === B , marks >=60 and <=80  grade C ,makrs below 60 grade d\n",
    "\n",
    "marks= int(input(\"Enter your percentages: \"))\n",
    "if marks>90:\n",
    "    print(\"Grade A\")\n",
    "elif marks >80 and marks<=90:\n",
    "    print(\"Grade B\")\n",
    "elif marks>=60 and marks<=80:\n",
    "    print(\"Grade C\")\n",
    "elif marks <60:\n",
    "    print(\"Grade D\")"
   ]
  },
  {
   "cell_type": "code",
   "execution_count": 3,
   "id": "1ba77ea6-1366-4d4f-8240-66fa9ae1aa92",
   "metadata": {},
   "outputs": [
    {
     "name": "stdin",
     "output_type": "stream",
     "text": [
      "Enter the cost_price of the bike :  120000\n"
     ]
    },
    {
     "name": "stdout",
     "output_type": "stream",
     "text": [
      "Tax :  18000.0\n"
     ]
    }
   ],
   "source": [
    "#Q2 write a python programme to accept the cost of a bike from user and display the road tax accordingly\n",
    "cost_price = int(input(\"Enter the cost_price of the bike : \"))\n",
    "if cost_price > 100000:\n",
    "    print(\"Tax : \",3/20*cost_price)\n",
    "elif cost_price > 50000 and cost_price<=100000:\n",
    "    print(\"Tax : \",1/10*cost_price)\n",
    "elif cost_price <= 50000: \n",
    "    print(\"Tax : \",1/20*cost_price)\n",
    "else:\n",
    "    print(\"tax rates  not mentioned\")"
   ]
  },
  {
   "cell_type": "code",
   "execution_count": 7,
   "id": "d1f7b7f5-9dce-4b9d-96cf-9c9c3b8d6dc4",
   "metadata": {},
   "outputs": [
    {
     "name": "stdout",
     "output_type": "stream",
     "text": [
      "10\n",
      "9\n",
      "8\n",
      "7\n",
      "6\n",
      "5\n",
      "4\n",
      "3\n",
      "2\n",
      "1\n"
     ]
    }
   ],
   "source": [
    "#Q 7 and 8\n",
    "i=10\n",
    "while (i>=1):\n",
    "    print(i)\n",
    "    i=i-1"
   ]
  },
  {
   "cell_type": "code",
   "execution_count": 8,
   "id": "67b88a42-384e-42e4-be41-c1ae5d3fc2f8",
   "metadata": {},
   "outputs": [
    {
     "name": "stdin",
     "output_type": "stream",
     "text": [
      "Enter number of rows :  9\n"
     ]
    },
    {
     "name": "stdout",
     "output_type": "stream",
     "text": [
      "* \n",
      "* * \n",
      "* * * \n",
      "* * * * \n",
      "* * * * * \n",
      "* * * * * * \n",
      "* * * * * * * \n",
      "* * * * * * * * \n",
      "* * * * * * * * * \n"
     ]
    }
   ],
   "source": [
    "#Q6\n",
    "n = int(input('Enter number of rows : '))\n",
    " \n",
    "i = 1\n",
    "while i <= n :\n",
    "    j = 1\n",
    "    while j <= i:\n",
    "        print(\"*\", end = \" \")\n",
    "        j += 1\n",
    "    print()\n",
    "    i += 1\n"
   ]
  },
  {
   "cell_type": "code",
   "execution_count": 9,
   "id": "6de9779d-6042-4604-a87d-6e57a67e489a",
   "metadata": {},
   "outputs": [
    {
     "name": "stdin",
     "output_type": "stream",
     "text": [
      "Enter number of rows :  5\n"
     ]
    },
    {
     "name": "stdout",
     "output_type": "stream",
     "text": [
      "* * * * * \n",
      "* * * * \n",
      "* * * \n",
      "* * \n",
      "* \n"
     ]
    }
   ],
   "source": [
    "#Q6\n",
    "n = int(input('Enter number of rows : '))\n",
    " \n",
    "i = 1\n",
    "while i <= n :\n",
    "    j = n\n",
    "    while j >= i:\n",
    "        print(\"*\", end = \" \")\n",
    "        j -= 1\n",
    "    print()\n",
    "    i += 1"
   ]
  },
  {
   "cell_type": "code",
   "execution_count": 11,
   "id": "d4fac9ed-d0ff-4070-8565-4aad27c2acf3",
   "metadata": {},
   "outputs": [
    {
     "name": "stdin",
     "output_type": "stream",
     "text": [
      "Enter number of rows :  5\n"
     ]
    },
    {
     "name": "stdout",
     "output_type": "stream",
     "text": [
      "  1 \n",
      "  2   3 \n",
      "  4   5   6 \n",
      "  7   8   9  10 \n",
      " 11  12  13  14  15 \n"
     ]
    }
   ],
   "source": [
    "#Q6 \n",
    "n = int(input('Enter number of rows : '))\n",
    " \n",
    "k = 1\n",
    "i = 1\n",
    "while i <= n :\n",
    "    j = 1\n",
    "    while j <= i:\n",
    "        print(\"{:3d}\".format(k), end = \" \")\n",
    "        j += 1\n",
    "        k += 1\n",
    "    print()\n",
    "    i += 1"
   ]
  },
  {
   "cell_type": "code",
   "execution_count": null,
   "id": "a1a4fe43-4255-4bd7-9794-096ee8b03831",
   "metadata": {},
   "outputs": [],
   "source": [
    "#Q5 Python while loop is used to run a block code until a certain condition is met. \n",
    "#Here, A while loop evaluates the condition. If the condition evaluates to True code inside the while loop is executed"
   ]
  }
 ],
 "metadata": {
  "kernelspec": {
   "display_name": "Python 3 (ipykernel)",
   "language": "python",
   "name": "python3"
  },
  "language_info": {
   "codemirror_mode": {
    "name": "ipython",
    "version": 3
   },
   "file_extension": ".py",
   "mimetype": "text/x-python",
   "name": "python",
   "nbconvert_exporter": "python",
   "pygments_lexer": "ipython3",
   "version": "3.10.8"
  }
 },
 "nbformat": 4,
 "nbformat_minor": 5
}
