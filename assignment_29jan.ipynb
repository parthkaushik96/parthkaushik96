{
 "cells": [
  {
   "cell_type": "markdown",
   "id": "bbf624ad-9dd6-45a8-af4f-033263b31a10",
   "metadata": {},
   "source": [
    " Q1-python was developed by guido van rossum\n",
    " \n",
    " Q2-Python is a multi-paradigm programming language. Object-oriented programming and structured programming are fully     supported, and many of their features support functional programming and aspect-oriented programming (including metaprogramming and metaobjects).\n",
    " \n",
    "Q3-Yes, Python is a case-sensitive language,it treats uppercase and lowercase characters differently. This applies to identifiers too. You must avoid using the same name with different cases while naming identifiers.\n",
    "\n",
    "Q4- The correct extension of a python file is (filename).py.\n",
    "\n",
    "Q5- Python is both compiled as well as an interpreted language which means when we run a python code, it is first compiled and then interpreted line by line\n",
    "\n",
    "Q6- The following are blocks: \n",
    "a) module\n",
    "b) function body\n",
    "c) class definition\n",
    "Each command typed interactively is a block. A script file (a file given as standard input to the interpreter or specified as a command line argument to the interpreter) is a code block.\n",
    "\n",
    "Q7- A single line comment in python is declared by using a hash or (#) symbol.\n",
    "\n",
    "Q8- We can use the .python_version() method present in the platform module to print the version of the Python interpreter installed on the system.\n",
    "\n",
    "Q9-Python supports the creation of  anonymous functions which are not bound to a name(@ runtime). It uses a construct called \"lambda\"\n",
    "\n",
    "Q-10- Pip is a package manager for Python that allows you to install additional libraries and packages that are not part of the standard Python library.PIP is a recursive acronym for “Preferred Installer Program” or PIP Installs Packages. \n",
    "\n",
    "Q11- Below mentioned are some of the examples of built in functions in python\n",
    "Function\tDescription\n",
    "abs()\tReturns the absolute value of a number.\n",
    "all()\tReturns True if all items in an iterable object are true.\n",
    "any()\tReturns True if any item in an iterable object is true.\n",
    "ascii()\tReturns a readable version of an object. Replaces none-ascii characters with escape character\n",
    "bin()\tReturns the binary version of a number.\n",
    "bool()\tReturns the boolean value of the specified object.\n",
    "\n",
    "Q12 - An identifier can have a maximum length of 79 characters in Python.\n",
    "\n",
    "Q13- Python has many advantages over the other languages some of them are listed below\n",
    "    a) Interpreted Language\n",
    "    b) Extensive library\n",
    "    c) Dynamically Typed\n",
    "    d) Portability\n",
    "    e) Open source\n",
    "    f) easy to use\n",
    "    g) Simple to Use and Understand. (For newcomers)\n",
    "    i) large and supportive community\n",
    "    \n",
    "Q14- Memory in Python is managed by Python private heap space. All Python objects and data structures are located in a private      heap. This private heap is taken care of by Python Interpreter itself, and a programmer doesn't have access to this            private heap\n",
    "\n",
    "Q15- Install python from this link https://www.python.org/downloads/\n",
    "After this, install it on your PC. Look for the location where PYTHON has been installed on your PC\n",
    "The complete path of python.exe can be added by:\n",
    "Right-clicking This PC and going to Properties.\n",
    "Clicking on the Advanced system settings in the menu on the left.\n",
    "Clicking on the Environment Variables button o​n the bottom right.\n",
    "In the System variables section, selecting the Path variable and clicking on Edit. The next screen will show all the directories that are currently a part of the PATH variable.\n",
    "Clicking on New and entering Python’s install directory.\n"
   ]
  }
 ],
 "metadata": {
  "kernelspec": {
   "display_name": "Python 3 (ipykernel)",
   "language": "python",
   "name": "python3"
  },
  "language_info": {
   "codemirror_mode": {
    "name": "ipython",
    "version": 3
   },
   "file_extension": ".py",
   "mimetype": "text/x-python",
   "name": "python",
   "nbconvert_exporter": "python",
   "pygments_lexer": "ipython3",
   "version": "3.10.8"
  }
 },
 "nbformat": 4,
 "nbformat_minor": 5
}
